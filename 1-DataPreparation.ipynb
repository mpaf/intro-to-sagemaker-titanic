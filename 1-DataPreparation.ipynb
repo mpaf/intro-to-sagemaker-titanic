{
 "cells": [
  {
   "cell_type": "markdown",
   "metadata": {},
   "source": [
    "## Dataset\n",
    "\n",
    "We're about to work with the Titanic dataset[1]. From the dataset documentation:\n",
    "\n",
    "The original Titanic dataset, describing the survival status of individual passengers on the Titanic. The titanic data does not contain information from the crew, but it does contain actual ages of half of the passengers. The principal source for data about Titanic passengers is the Encyclopedia Titanica. The datasets used here were begun by a variety of researchers. One of the original sources is Eaton & Haas (1994) Titanic: Triumph and Tragedy, Patrick Stephens Ltd, which includes a passenger list created by many researchers and edited by Michael A. Findlay.\n",
    "\n",
    "Thomas Cason of UVa has greatly updated and improved the Titanic data frame using the Encyclopedia Titanica and created the dataset here. Some duplicate passengers have been dropped, many errors corrected, many missing ages filled in, and new variables created.\n",
    "\n",
    "For more information about how this dataset was constructed: http://biostat.mc.vanderbilt.edu/wiki/pub/Main/DataSets/titanic3info.txt\n",
    "\n",
    "The dataset itself can be downloaded from:\n",
    "https://www.openml.org/search?type=data&sort=runs&id=40945\n",
    "\n",
    "[1] Author: Frank E. Harrell Jr., Thomas Cason Source: Vanderbilt Biostatistics"
   ]
  },
  {
   "cell_type": "markdown",
   "metadata": {},
   "source": [
    "### Overview\n",
    "\n",
    "- PassengerId is the unique id of the row and it doesn't have any effect on target\n",
    "- Survived is the target variable we are trying to predict (0 or 1):\n",
    "  - 1 = Survived\n",
    "  - 0 = Not Survived\n",
    "- Pclass (Passenger Class) is the socio-economic status of the passenger and it is a categorical ordinal feature which has 3 unique values (1, 2 or 3):\n",
    "  - 1 = Upper Class\n",
    "  - 2 = Middle Class\n",
    "  - 3 = Lower Class\n",
    "- Name, Sex and Age are self-explanatory\n",
    "- SibSp is the total number of the passengers' siblings and spouse\n",
    "- Parch is the total number of the passengers' parents and children\n",
    "- Ticket is the ticket number of the passenger\n",
    "- Fare is the passenger fare\n",
    "- Cabin is the cabin number of the passenger\n",
    "- Embarked is port of embarkation and it is a categorical feature which has 3 unique values (C, Q or S):\n",
    "  - C = Cherbourg\n",
    "  - Q = Queenstown\n",
    "  - S = Southampton\n",
    "- boat - Lifeboat (if survived)\n",
    "- body - Body number (if did not survive and body was recovered)\n",
    "- home.dest - Home/Destination"
   ]
  },
  {
   "cell_type": "code",
   "execution_count": null,
   "metadata": {},
   "outputs": [],
   "source": [
    "%%capture\n",
    "!wget -O titanic.arff https://www.openml.org/data/download/16826755/phpMYEkMl"
   ]
  },
  {
   "cell_type": "code",
   "execution_count": null,
   "metadata": {},
   "outputs": [],
   "source": [
    "%%capture\n",
    "!pip install liac-arff\n",
    "!pip install pandas --upgrade\n",
    "!pip install seaborn --upgrade"
   ]
  },
  {
   "cell_type": "code",
   "execution_count": null,
   "metadata": {},
   "outputs": [],
   "source": [
    "import numpy as np\n",
    "import pandas as pd\n",
    "import arff\n",
    "\n",
    "raw_data = data = arff.load(open('titanic.arff', 'r'))"
   ]
  },
  {
   "cell_type": "code",
   "execution_count": null,
   "metadata": {},
   "outputs": [],
   "source": [
    "raw_data['attributes']\n",
    "df = pd.DataFrame(raw_data['data'])"
   ]
  },
  {
   "cell_type": "code",
   "execution_count": null,
   "metadata": {},
   "outputs": [],
   "source": [
    "raw_data['attributes']\n",
    "df.columns=[x[0] for x in raw_data['attributes']]"
   ]
  },
  {
   "cell_type": "markdown",
   "metadata": {},
   "source": [
    "### 1. Missing Values"
   ]
  },
  {
   "cell_type": "code",
   "execution_count": null,
   "metadata": {},
   "outputs": [],
   "source": [
    "df.isnull().sum()"
   ]
  },
  {
   "cell_type": "code",
   "execution_count": null,
   "metadata": {},
   "outputs": [],
   "source": [
    "# fill the two missing values with the most occurred value, which is \"S\".\n",
    "df[\"embarked\"] = df[\"embarked\"].fillna(\"S\")\n",
    "df[\"fare\"].fillna(df[\"fare\"].median(), inplace=True)"
   ]
  },
  {
   "cell_type": "code",
   "execution_count": null,
   "metadata": {},
   "outputs": [],
   "source": [
    "# get average, std, and number of NaN values in titanic_df\n",
    "average_age_titanic   = df[\"age\"].mean()\n",
    "std_age_titanic       = df[\"age\"].std()\n",
    "count_nan_age_titanic = df[\"age\"].isnull().sum()\n",
    "\n",
    "rand_age = np.random.randint(average_age_titanic - std_age_titanic, average_age_titanic + std_age_titanic, size = count_nan_age_titanic)\n",
    "\n",
    "original_age_values = df['age'].dropna().astype(int)\n",
    "\n",
    "# replace nan values with random\n",
    "df.loc[np.isnan(df['age']), 'age'] = rand_age\n",
    "\n",
    "df['age'] = df['age'].astype(int)"
   ]
  },
  {
   "cell_type": "markdown",
   "metadata": {},
   "source": [
    "### Converting Types"
   ]
  },
  {
   "cell_type": "code",
   "execution_count": null,
   "metadata": {},
   "outputs": [],
   "source": [
    "df['survived'] = df['survived'].astype(int)\n",
    "df['fare'] = df['fare'].astype(int)"
   ]
  },
  {
   "cell_type": "markdown",
   "metadata": {},
   "source": [
    "### 2. Dropping unused features"
   ]
  },
  {
   "cell_type": "code",
   "execution_count": null,
   "metadata": {},
   "outputs": [],
   "source": [
    "# drop unnecessary columns, these columns won't be useful in analysis and prediction\n",
    "df = df.drop(['name','ticket'], axis=1)\n",
    "\n",
    "# Cabin has a lot of NaN values, so it won't cause a remarkable impact on prediction\n",
    "df.drop(\"cabin\", axis=1, inplace=True)\n",
    "\n",
    "# There is direct correlation between boat and survived, since having a not-None value\n",
    "# in boat means passenger survived and vice-versa\n",
    "df.drop(\"boat\", axis=1, inplace=True)\n",
    "# Same for body\n",
    "df.drop(\"body\", axis=1, inplace=True)\n",
    "\n",
    "# We have a lot of missing values for this feature, and it has no/poor predictive power\n",
    "df.drop(\"home.dest\", axis=1, inplace=True)"
   ]
  },
  {
   "cell_type": "markdown",
   "metadata": {},
   "source": [
    "### 3. Some Data Visualisations"
   ]
  },
  {
   "cell_type": "code",
   "execution_count": null,
   "metadata": {},
   "outputs": [],
   "source": [
    "import seaborn as sns\n",
    "import matplotlib.pyplot as plt"
   ]
  },
  {
   "cell_type": "markdown",
   "metadata": {},
   "source": [
    "#### Embark location"
   ]
  },
  {
   "cell_type": "code",
   "execution_count": null,
   "metadata": {},
   "outputs": [],
   "source": [
    "fig, (axis1,axis2,axis3) = plt.subplots(1,3,figsize=(15,5))\n",
    "\n",
    "# plot\n",
    "sns.countplot(x='embarked', data=df, ax=axis1)\n",
    "sns.countplot(x='survived', hue='embarked', data=df, ax=axis2)\n",
    "\n",
    "# group by embarked, and get the mean for survived passengers for each value in Embarked\n",
    "embark_perc = df[[\"embarked\", \"survived\"]].groupby(['embarked'],as_index=False).mean()\n",
    "sns.barplot(x='embarked', y='survived', data=embark_perc,order=['S','C','Q'],ax=axis3)"
   ]
  },
  {
   "cell_type": "markdown",
   "metadata": {},
   "source": [
    "#### Fares"
   ]
  },
  {
   "cell_type": "code",
   "execution_count": null,
   "metadata": {},
   "outputs": [],
   "source": [
    "# get fare for survived & didn't survive passengers \n",
    "fare_not_survived = df[\"fare\"][df[\"survived\"] == 0]\n",
    "fare_survived     = df[\"fare\"][df[\"survived\"] == 1]\n",
    "\n",
    "# get average and std for fare of survived/not survived passengers\n",
    "avgerage_fare = pd.DataFrame([fare_not_survived.mean(), fare_survived.mean()])\n",
    "std_fare = pd.DataFrame([fare_not_survived.std(), fare_survived.std()])\n",
    "\n",
    "# plot\n",
    "df['fare'].plot(kind='hist', figsize=(15,3),bins=100, xlim=(0,300))\n",
    "\n",
    "avgerage_fare.index.names = std_fare.index.names = [\"Survived\"]\n",
    "avgerage_fare.plot(yerr=std_fare,kind='bar',legend=False)"
   ]
  },
  {
   "cell_type": "markdown",
   "metadata": {},
   "source": [
    "#### Age"
   ]
  },
  {
   "cell_type": "code",
   "execution_count": null,
   "metadata": {},
   "outputs": [],
   "source": [
    "fig, (axis1,axis2) = plt.subplots(1,2,figsize=(15,4))\n",
    "axis1.set_title('Original Age values - Titanic')\n",
    "axis2.set_title('New Age values - Titanic')\n",
    "\n",
    "original_age_values.hist(bins=70, ax=axis1)\n",
    "df['age'].hist(bins=70, ax=axis2)"
   ]
  },
  {
   "cell_type": "code",
   "execution_count": null,
   "metadata": {},
   "outputs": [],
   "source": [
    "# .... continue with plot Age column\n",
    "\n",
    "# peaks for survived/not survived passengers by their age\n",
    "facet = sns.FacetGrid(df, hue=\"survived\",aspect=4)\n",
    "facet.map(sns.kdeplot,'age',shade= True)\n",
    "facet.set(xlim=(0, df['age'].max()))\n",
    "facet.add_legend()\n",
    "\n",
    "# average survived passengers by age\n",
    "fig, axis1 = plt.subplots(1,1,figsize=(18,4))\n",
    "average_age = df[[\"age\", \"survived\"]].groupby(['age'],as_index=False).mean()\n",
    "sns.barplot(x='age', y='survived', data=average_age)"
   ]
  },
  {
   "cell_type": "markdown",
   "metadata": {},
   "source": [
    "#### Family (created feature)"
   ]
  },
  {
   "cell_type": "code",
   "execution_count": null,
   "metadata": {},
   "outputs": [],
   "source": [
    "# Instead of having two columns Parch & SibSp, \n",
    "# we can have only one column represent if the passenger had any family member aboard or not,\n",
    "# Meaning, if having any family member(whether parent, brother, ...etc) will increase chances of Survival or not.\n",
    "df['family'] =  df[\"parch\"] + df[\"sibsp\"]\n",
    "df['family'].loc[df['family'] > 0] = 1\n",
    "df['family'].loc[df['family'] == 0] = 0\n",
    "\n",
    "# drop parch & sibsp\n",
    "df = df.drop(['sibsp','parch'], axis=1)"
   ]
  },
  {
   "cell_type": "code",
   "execution_count": null,
   "metadata": {},
   "outputs": [],
   "source": [
    "# plot\n",
    "fig, (axis1,axis2) = plt.subplots(1,2,sharex=True,figsize=(10,5))\n",
    "\n",
    "sns.countplot(x='family', data=df, order=[1,0], ax=axis1)\n",
    "\n",
    "# average of survived for those who had/didn't have any family member\n",
    "family_perc = df[[\"family\", \"survived\"]].groupby(['family'],as_index=False).mean()\n",
    "\n",
    "sns.barplot(x='family', y='survived', data=family_perc, order=[1,0], ax=axis2)\n",
    "\n",
    "axis1.set_xticklabels([\"With Family\",\"Alone\"], rotation=0)"
   ]
  },
  {
   "cell_type": "markdown",
   "metadata": {},
   "source": [
    "#### Person (created feature)"
   ]
  },
  {
   "cell_type": "code",
   "execution_count": null,
   "metadata": {},
   "outputs": [],
   "source": [
    "# Sex\n",
    "\n",
    "# As we see, children(age < ~16) on aboard seem to have a high chances for Survival.\n",
    "# So, we can classify passengers as males, females, and child\n",
    "df['person'] = df[['sex', 'age']].apply(lambda row: 'child' if row['age'] < 16 else row['sex'], axis=1)\n",
    "# No need to use Sex column since we created Person column\n",
    "df.drop(['sex'],axis=1,inplace=True)\n"
   ]
  },
  {
   "cell_type": "code",
   "execution_count": null,
   "metadata": {},
   "outputs": [],
   "source": [
    "# First plot person column chances of survival\n",
    "fig, (axis1,axis2) = plt.subplots(1,2,figsize=(10,5))\n",
    "\n",
    "sns.countplot(x='person', data=df, ax=axis1)\n",
    "# average of survived for each Person(male, female, or child)\n",
    "person_perc = df[[\"person\", \"survived\"]].groupby(['person'],as_index=False).mean()\n",
    "sns.barplot(x='person', y='survived', data=person_perc, ax=axis2, order=['male','female','child'])"
   ]
  },
  {
   "cell_type": "markdown",
   "metadata": {},
   "source": [
    "#### PClass"
   ]
  },
  {
   "cell_type": "code",
   "execution_count": null,
   "metadata": {},
   "outputs": [],
   "source": [
    "# Pclass\n",
    "\n",
    "sns.factorplot('pclass','survived',order=[1,2,3], data=df,height=5)"
   ]
  },
  {
   "cell_type": "markdown",
   "metadata": {},
   "source": [
    "### Dummy Encoding"
   ]
  },
  {
   "cell_type": "code",
   "execution_count": null,
   "metadata": {},
   "outputs": [],
   "source": [
    "#Embarked\n",
    "\n",
    "df = pd.get_dummies(df, columns = ['embarked'])"
   ]
  },
  {
   "cell_type": "code",
   "execution_count": null,
   "metadata": {},
   "outputs": [],
   "source": [
    "#Person\n",
    "\n",
    "# create dummy variables for Person column\n",
    "df  = pd.get_dummies(df, columns = ['person'])"
   ]
  },
  {
   "cell_type": "code",
   "execution_count": null,
   "metadata": {},
   "outputs": [],
   "source": [
    "# create dummy variables for pclass\n",
    "df  = pd.get_dummies(df, columns = ['pclass'])"
   ]
  },
  {
   "cell_type": "code",
   "execution_count": null,
   "metadata": {},
   "outputs": [],
   "source": [
    "print(df.info())\n",
    "df.head()"
   ]
  },
  {
   "cell_type": "code",
   "execution_count": null,
   "metadata": {},
   "outputs": [],
   "source": []
  }
 ],
 "metadata": {
  "instance_type": "ml.t3.medium",
  "kernelspec": {
   "display_name": "Python 3 (Data Science)",
   "language": "python",
   "name": "python3__SAGEMAKER_INTERNAL__arn:aws:sagemaker:eu-central-1:936697816551:image/datascience-1.0"
  },
  "language_info": {
   "codemirror_mode": {
    "name": "ipython",
    "version": 3
   },
   "file_extension": ".py",
   "mimetype": "text/x-python",
   "name": "python",
   "nbconvert_exporter": "python",
   "pygments_lexer": "ipython3",
   "version": "3.7.10"
  }
 },
 "nbformat": 4,
 "nbformat_minor": 4
}
